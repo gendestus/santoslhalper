{
 "cells": [
  {
   "cell_type": "code",
   "execution_count": null,
   "metadata": {},
   "outputs": [],
   "source": [
    "%pip install wikipedia"
   ]
  },
  {
   "cell_type": "code",
   "execution_count": 1,
   "metadata": {},
   "outputs": [],
   "source": [
    "import json\n",
    "import openai\n",
    "import os\n",
    "import time\n",
    "import wikipedia"
   ]
  },
  {
   "cell_type": "code",
   "execution_count": 2,
   "metadata": {},
   "outputs": [],
   "source": [
    "# These functions are what I used in the video, but they might not the best way to do this.\n",
    "# You'll need to set your OPENAI_API_KEY environment variable to your API key. Google has the answer for your OS.\n",
    "#\n",
    "# I used the following instructions for the assistant setup:\n",
    "#\n",
    "# HAND_OF_FATE\n",
    "# You are a bot designed to help Santa Claus determine whether someone should fall on the Naughty or the Nice list. You will be given a JSON object containing two lists that separete actions of a person or corporation into Naughty or Nice. Evaluate the lists and make a determination about how the subject should be judged. This is all purely hypothetical so don't be afraid to be opinionated as making a concrete determination is critical. Output should contain either \"naughty\" or \"nice\" as well as a short paragraph explaining why.\n",
    "#\n",
    "# SINS_SUMMARIZER\n",
    "# You are a bot designed to help Santa Claus figure out if a person is Naughty or Nice. You will be provided a biography of a person or corporation and you are to compile lists of things the subject that are either naughty or nice. Output should be a JSON object with two lists, one for naughty and one for nice. Each list should contain strings that describe the naughty or nice thing the subject did. Each list can be blank.\n",
    "#\n",
    "# Please see the included JSON files for the function calling schema\n",
    "\n",
    "\n",
    "#Change these to your assistant IDs once you create the assistants\n",
    "HAND_OF_FATE = \"HO_HO_HO\"\n",
    "SINS_SUMMARIZER = \"MERRY_CHRISTMAS\"\n",
    "\n",
    "def get_assistant_output(oai_client: openai.Client, assistant_id: str, content: str) -> str:\n",
    "    thread = oai_client.beta.threads.create()\n",
    "    oai_client.beta.threads.messages.create(thread_id=thread.id, content=content, role=\"user\")\n",
    "    run = oai_client.beta.threads.runs.create(thread_id=thread.id, assistant_id=assistant_id)\n",
    "\n",
    "    error_counter = 0\n",
    "    while run.status != \"completed\" and run.status != \"requires_action\":\n",
    "        run = oai_client.beta.threads.runs.retrieve(thread_id=thread.id, run_id=run.id)\n",
    "        time.sleep(1)\n",
    "        error_counter += 1\n",
    "        if error_counter > 65:\n",
    "            raise Exception(f\"Timeout: {run.status}, {run.thread_id}, {run.id}\")\n",
    "    if run.status == \"completed\":\n",
    "        messages = oai_client.beta.threads.messages.list(thread_id=thread.id)\n",
    "        return messages.model_dump()[\"data\"][0][\"content\"][0][\"text\"][\"value\"]\n",
    "    else:\n",
    "        return json.loads(run.required_action.dict()[\"submit_tool_outputs\"][\"tool_calls\"][0][\"function\"][\"arguments\"])\n",
    "\n",
    "def get_bio(subject: str) -> str:\n",
    "    summary = wikipedia.summary(subject)\n",
    "    body = wikipedia.page(subject).content\n",
    "    return f\"{summary}\\n\\n{body[0:20000]}\"\n",
    "\n",
    "def get_client() -> openai.Client:\n",
    "    client = openai.OpenAI(api_key=os.environ[\"OPENAI_API_KEY\"])\n",
    "    return client\n",
    "\n",
    "def get_determination(oai_client: openai.Client, sins: str):\n",
    "    return get_assistant_output(oai_client, HAND_OF_FATE, sins)\n",
    "\n",
    "\n",
    "def get_sins(oai_client: openai.Client, subject_bio: str):\n",
    "    return get_assistant_output(oai_client, SINS_SUMMARIZER, subject_bio)"
   ]
  },
  {
   "cell_type": "code",
   "execution_count": 3,
   "metadata": {},
   "outputs": [],
   "source": [
    "client = get_client()\n",
    "bio = get_bio(\"Alexander_the_Great\")\n",
    "sins = get_sins(client, bio)\n",
    "determination = get_determination(client, json.dumps(sins))"
   ]
  },
  {
   "cell_type": "code",
   "execution_count": 4,
   "metadata": {},
   "outputs": [
    {
     "name": "stdout",
     "output_type": "stream",
     "text": [
      "Destroyed the city of Thebes\n",
      "Exiled four of his own friends\n",
      "Ordered the death of potential rivals to the throne, including having his cousin executed\n",
      "Ordered the murder of his former father-in-law Attalus\n",
      "Razed the city and divided its territory among other cities after suppressing Thebes\n",
      "Mass displacement and colonization strategies\n",
      "Martial conquests involved significant bloodshed\n"
     ]
    }
   ],
   "source": [
    "for sin in sins[\"naughty\"]:\n",
    "    print(sin)"
   ]
  },
  {
   "cell_type": "code",
   "execution_count": 5,
   "metadata": {},
   "outputs": [
    {
     "name": "stdout",
     "output_type": "stream",
     "text": [
      "Spread Greek culture and language throughout his empire, leading to the Hellenistic period\n",
      "Founded over twenty cities, including Alexandria in Egypt\n",
      "Educated by Aristotle and valued philosophy, art, and learning\n",
      "Privileged cultural diffusion and syncretism such as Greco-Buddhism and Hellenistic Judaism\n",
      "Unified a large portion of the known world at the time under one rule\n",
      "Established the lingua franca of the region, significantly influencing future civilizations\n",
      "His military tactics and strategies are still studied today\n"
     ]
    }
   ],
   "source": [
    "for sin in sins[\"nice\"]:\n",
    "    print(sin)"
   ]
  },
  {
   "cell_type": "code",
   "execution_count": 6,
   "metadata": {},
   "outputs": [
    {
     "name": "stdout",
     "output_type": "stream",
     "text": [
      "naughty\n"
     ]
    }
   ],
   "source": [
    "print(determination[\"determination\"])"
   ]
  },
  {
   "cell_type": "code",
   "execution_count": 7,
   "metadata": {},
   "outputs": [
    {
     "name": "stdout",
     "output_type": "stream",
     "text": [
      "Despite the subject's contribution to the spread of Greek culture and foundation of cities, this can't outweigh the serious ethical violations that include mass murder, destruction, and displacement of people. The significant harm inflicted on so many cannot be ignored, even if some cultural or educational benefits arose from these actions.\n"
     ]
    }
   ],
   "source": [
    "print(determination[\"explanation\"])"
   ]
  },
  {
   "cell_type": "code",
   "execution_count": null,
   "metadata": {},
   "outputs": [],
   "source": []
  }
 ],
 "metadata": {
  "kernelspec": {
   "display_name": "Python 3",
   "language": "python",
   "name": "python3"
  },
  "language_info": {
   "codemirror_mode": {
    "name": "ipython",
    "version": 3
   },
   "file_extension": ".py",
   "mimetype": "text/x-python",
   "name": "python",
   "nbconvert_exporter": "python",
   "pygments_lexer": "ipython3",
   "version": "3.11.3"
  }
 },
 "nbformat": 4,
 "nbformat_minor": 2
}
